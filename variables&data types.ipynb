{
 "cells": [
  {
   "attachments": {},
   "cell_type": "markdown",
   "metadata": {},
   "source": [
    "My frist program"
   ]
  },
  {
   "cell_type": "code",
   "execution_count": 1,
   "metadata": {},
   "outputs": [
    {
     "name": "stdout",
     "output_type": "stream",
     "text": [
      "Hello world\n"
     ]
    }
   ],
   "source": [
    "print(\"Hello world\")"
   ]
  },
  {
   "cell_type": "code",
   "execution_count": null,
   "metadata": {},
   "outputs": [
    {
     "name": "stdout",
     "output_type": "stream",
     "text": [
      "Ankita is a good girl /nand Aakash is also good boy.\n"
     ]
    }
   ],
   "source": [
    "# this is the single line comment\n",
    "'''Multi line comments'''\n",
    "print(\"Ankita is a good girl /nand Aakash is also good boy.\")"
   ]
  },
  {
   "cell_type": "code",
   "execution_count": null,
   "metadata": {},
   "outputs": [],
   "source": [
    "#variable\n",
    "a=5\n",
    "b=\"hello\"\n",
    "c=True\n",
    "d=None\n",
    "#these are different variable"
   ]
  },
  {
   "attachments": {},
   "cell_type": "markdown",
   "metadata": {},
   "source": [
    "##Data types\n",
    "#Integer\n",
    "#Float\n",
    "#String\n",
    "#complex Number \n",
    "#Boolean Type"
   ]
  },
  {
   "cell_type": "code",
   "execution_count": 1,
   "metadata": {},
   "outputs": [],
   "source": [
    "a=546887789\n",
    "print=(a)\n",
    "print=(type(a))\n",
    "b=58.90\n",
    "print=(type(b))\n",
    "c=(\"Hello programmers\")\n",
    "print=(type(c))\n",
    "d=True\n",
    "print=(type(d))\n",
    "e=(2+4j)\n",
    "print=(type(e))"
   ]
  }
 ],
 "metadata": {
  "kernelspec": {
   "display_name": "Python 3",
   "language": "python",
   "name": "python3"
  },
  "language_info": {
   "codemirror_mode": {
    "name": "ipython",
    "version": 3
   },
   "file_extension": ".py",
   "mimetype": "text/x-python",
   "name": "python",
   "nbconvert_exporter": "python",
   "pygments_lexer": "ipython3",
   "version": "3.10.10"
  },
  "orig_nbformat": 4
 },
 "nbformat": 4,
 "nbformat_minor": 2
}
