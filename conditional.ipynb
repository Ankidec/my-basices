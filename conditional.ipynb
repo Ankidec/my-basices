{
 "cells": [
  {
   "attachments": {},
   "cell_type": "markdown",
   "metadata": {},
   "source": [
    "If statement"
   ]
  },
  {
   "cell_type": "code",
   "execution_count": 1,
   "metadata": {},
   "outputs": [
    {
     "name": "stdout",
     "output_type": "stream",
     "text": [
      "b is greater than a\n"
     ]
    }
   ],
   "source": [
    "a=int(input(\"Enter a first number:\"))\n",
    "b=int(input(\"Enter a second number:\"))\n",
    "if a > b:\n",
    "  print(\"a is greater than b\")\n",
    "if b > a:\n",
    "  print(\"b is greater than a\")  "
   ]
  },
  {
   "attachments": {},
   "cell_type": "markdown",
   "metadata": {},
   "source": [
    "elif statement"
   ]
  },
  {
   "cell_type": "code",
   "execution_count": 2,
   "metadata": {},
   "outputs": [
    {
     "name": "stdout",
     "output_type": "stream",
     "text": [
      "a and b are equal\n"
     ]
    }
   ],
   "source": [
    "a = int(input(\"Enter a number: \"))\n",
    "b = int(input(\"Enter a same :\"))\n",
    "if b > a:\n",
    "  print(\"b is greater than a\")\n",
    "elif a == b:\n",
    "  print(\"a and b are equal\")"
   ]
  },
  {
   "attachments": {},
   "cell_type": "markdown",
   "metadata": {},
   "source": [
    "else statement "
   ]
  },
  {
   "cell_type": "code",
   "execution_count": 3,
   "metadata": {},
   "outputs": [
    {
     "name": "stdout",
     "output_type": "stream",
     "text": [
      "a is greater than b\n"
     ]
    }
   ],
   "source": [
    "a = 200\n",
    "b = 33\n",
    "if b > a:\n",
    "  print(\"b is greater than a\")\n",
    "elif a == b:\n",
    "  print(\"a and b are equal\")\n",
    "else:\n",
    "  print(\"a is greater than b\")\n"
   ]
  },
  {
   "cell_type": "code",
   "execution_count": 4,
   "metadata": {},
   "outputs": [
    {
     "name": "stdout",
     "output_type": "stream",
     "text": [
      "Both number a equql\n"
     ]
    }
   ],
   "source": [
    "num1=eval(input(\"Enter a first number:\"))\n",
    "num2=eval(input(\"Enter a second number: \"))\n",
    "if num1-num2==0:\n",
    "    print(\"Both number a equql\")"
   ]
  },
  {
   "cell_type": "code",
   "execution_count": 9,
   "metadata": {},
   "outputs": [
    {
     "name": "stdout",
     "output_type": "stream",
     "text": [
      "you con't drive\n"
     ]
    }
   ],
   "source": [
    "age=int(input(\"Enter your age:\"))\n",
    "if (age>18):\n",
    "    print(\"you can drive\")\n",
    "else:\n",
    "    print(\"you con't drive\" )    "
   ]
  },
  {
   "cell_type": "code",
   "execution_count": 10,
   "metadata": {},
   "outputs": [
    {
     "name": "stdout",
     "output_type": "stream",
     "text": [
      "Second Div\n"
     ]
    }
   ],
   "source": [
    "per=int(input(\"Enter a value:-\"))\n",
    "if per>=80:\n",
    "    print(\"first Div\")\n",
    "elif per>=50:\n",
    "    print(\"Second Div\")\n",
    "elif per >=35:\n",
    "    print(\"Third Div\")\n",
    "else:\n",
    "    print(\"Fail\")            \n"
   ]
  },
  {
   "attachments": {},
   "cell_type": "markdown",
   "metadata": {},
   "source": [
    "*WAP to perform basic arithmetic operation based on the choices.  "
   ]
  },
  {
   "cell_type": "code",
   "execution_count": 14,
   "metadata": {},
   "outputs": [
    {
     "name": "stdout",
     "output_type": "stream",
     "text": [
      "\n",
      "        + Addition \n",
      "        - Subtraction\n",
      "        * Multiplication\n",
      "         / Division   \n",
      "invalid opr....😥\n"
     ]
    }
   ],
   "source": [
    "print(\"\"\"\n",
    "        + Addition \n",
    "        - Subtraction\n",
    "        * Multiplication\n",
    "         / Division   \"\"\")\n",
    "num1=eval(input(\"Enter a value first:-\"))\n",
    "num2=eval(input(\"Enter a value second:-\"))\n",
    "opr=input(\"Enter the opr\")\n",
    "if opr=='+':\n",
    "    print(num1+num2)\n",
    "elif opr=='-':\n",
    "    print(num1-num2)\n",
    "elif opr=='*':\n",
    "    print(num1*num2)\n",
    "elif opr=='/':\n",
    "    print(num1/num2)\n",
    "else:\n",
    "    print(\"invalid opr....😥\")\n",
    "    \n"
   ]
  }
 ],
 "metadata": {
  "kernelspec": {
   "display_name": "base",
   "language": "python",
   "name": "python3"
  },
  "language_info": {
   "codemirror_mode": {
    "name": "ipython",
    "version": 3
   },
   "file_extension": ".py",
   "mimetype": "text/x-python",
   "name": "python",
   "nbconvert_exporter": "python",
   "pygments_lexer": "ipython3",
   "version": "3.10.10"
  },
  "orig_nbformat": 4
 },
 "nbformat": 4,
 "nbformat_minor": 2
}
