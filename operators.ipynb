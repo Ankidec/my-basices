{
 "cells": [
  {
   "attachments": {},
   "cell_type": "markdown",
   "metadata": {},
   "source": [
    "# Arithmetic Operators\n",
    "# +=Additiion\n",
    "# -=Subtraction\n",
    "# *=Multiplication\n",
    "# /=division\n",
    "# %=Modulus\n",
    "# //=floordivision\n",
    "# **=Exponential\n"
   ]
  },
  {
   "cell_type": "code",
   "execution_count": 4,
   "metadata": {},
   "outputs": [
    {
     "name": "stdout",
     "output_type": "stream",
     "text": [
      "The value of 5 + 3 is: 8\n",
      "The value of 5 + 3 is: 2\n",
      "The value of 5 + 3 is: 15\n",
      "The value of 5 + 3 is: 1.6666666666666667\n"
     ]
    }
   ],
   "source": [
    "a=5\n",
    "b=3\n",
    "print(\"The value of\",a,\"+\",3,\"is:\",a+b)\n",
    "print(\"The value of\",a,\"+\",3,\"is:\",a-b)\n",
    "print(\"The value of\",a,\"+\",3,\"is:\",a*b)\n",
    "print(\"The value of\",a,\"+\",3,\"is:\",a/b)"
   ]
  },
  {
   "attachments": {},
   "cell_type": "markdown",
   "metadata": {},
   "source": [
    "# Type Casting \n",
    "The conversion of one data type in to other data types\n",
    "# Explicit conversion\n",
    "# Implicit conversion"
   ]
  },
  {
   "cell_type": "code",
   "execution_count": 6,
   "metadata": {},
   "outputs": [
    {
     "name": "stdout",
     "output_type": "stream",
     "text": [
      "15\n",
      "5.8\n"
     ]
    }
   ],
   "source": [
    "#Explicit conversion\n",
    "a=\"10\"\n",
    "b=\"5\"\n",
    "print(int(a)+int(b))\n",
    "#Implicit conversion\n",
    "c=1.8\n",
    "d=4\n",
    "print(c+d) "
   ]
  },
  {
   "attachments": {},
   "cell_type": "markdown",
   "metadata": {},
   "source": [
    "# User input\n",
    "#We can take directly user input but input returns the value as string."
   ]
  },
  {
   "cell_type": "code",
   "execution_count": 7,
   "metadata": {},
   "outputs": [
    {
     "name": "stdout",
     "output_type": "stream",
     "text": [
      "68\n"
     ]
    }
   ],
   "source": [
    "x=eval(input(\"Enter any  frist number :\"))\n",
    "y=eval(input(\"Enter any second number :\"))\n",
    "print(x+y)"
   ]
  }
 ],
 "metadata": {
  "kernelspec": {
   "display_name": "Python 3",
   "language": "python",
   "name": "python3"
  },
  "language_info": {
   "codemirror_mode": {
    "name": "ipython",
    "version": 3
   },
   "file_extension": ".py",
   "mimetype": "text/x-python",
   "name": "python",
   "nbconvert_exporter": "python",
   "pygments_lexer": "ipython3",
   "version": "3.11.3"
  },
  "orig_nbformat": 4
 },
 "nbformat": 4,
 "nbformat_minor": 2
}
